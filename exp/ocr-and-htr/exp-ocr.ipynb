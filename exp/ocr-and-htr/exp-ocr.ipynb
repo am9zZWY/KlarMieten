{
 "cells": [
  {
   "cell_type": "markdown",
   "id": "4247687190fe1e07",
   "metadata": {},
   "source": []
  },
  {
   "cell_type": "markdown",
   "id": "cb767d107e0be34c",
   "metadata": {},
   "source": [
    "# OCR with EasyOCR\n"
   ]
  },
  {
   "cell_type": "code",
   "execution_count": 2,
   "id": "efd5c2bbcc7995",
   "metadata": {
    "ExecuteTime": {
     "end_time": "2024-12-26T11:49:16.383465Z",
     "start_time": "2024-12-26T11:49:06.258380Z"
    }
   },
   "outputs": [
    {
     "name": "stdout",
     "output_type": "stream",
     "text": [
      "Transcription (EasyOCR): $ 2 MietzeitlKündigung 1 Das Mietverhältnis beginnt am 0443.Q023 und wird auf unbestimmte Zeit geschlossen. und wird auf die Dauer von Jahren, also bis geschlossen; weil der Vermieter die Räume nach Ablauf der Mietzeit als Wohnung für sich, seine Familienangehörigen oder Angehörige seines Haushalts nutzen will, hier: in zulässiger Weise beseitigen oder s0 wesentlich verändern oder instand setzen will; dass die Maßnahme durch Fortsetzung des Mietverhältnisses erheblich erschwert werden würde, hier: an einen zur Dienstleistung Verpflichteten vermieten will. Besteht kein solcher Befristungsgrund oder wurde dieser vorstehend nicht schriftlich festgehalten; gilt das Mietver- hältnis als auf unbestimmte Zeit geschlossen. Auch während der Laufzeit der Befristung ist der Vermieter berechtigt; Mieterhöhungen vorzunehmen; die aufgrund gesetzlicher Vorschriften für Wohnraum; der auf unbestimmte Zeit ver - mietet ist, zulässig sind. Beide Parteien können eine ordentliche Kündigung des Mietverhältnisses mit gesetzlicher Frist frühestens zum erklären. Der darin liegende Kündigungsverzicht kann höchstens für die Dauer von 4 Jahren seit Abschluss des Vertrags und mit der Möglichkeit zum Ablauf dieses Zeitraums vereinbart werden: 2. Ist das Mietverhältnis auf unbestimmte Zeit geschlossen; so kann jede Partei das Mietverhältnis schriftlich kündigen; Die Kündigung ist spätestens am dritten Werktag eines Kalendermonats zum Ablauf des übernächsten Monats zulässig. Die Kündigungsfrist für den Vermieter verlängert sich nach fünf und acht Jahren seit der Überlassung des Wohnraums um jeweils drei Monate. 3. Das Recht zur außerordentlichen Kündigung bleibt unberührt. 4. Die Regelung des $ 545 BGB, wonach sich ein beendetes Mietverhältnis im Falle der Gebrauchsfortsetzung durch den Mieter auf unbestimmte Zeit verlängert; wird ausgeschlossen: 8 3 Miete 1 Die Miete beträgt monatlich für Bchcbskolle; a)   Wohnung Zo clon sbante? + ril € b)   GaragelStellplatz cm ewsoJe € c) EinbauküchelMöblierung anciofe € d) Betriebskosten-Vorauszahlung (siehe folg. Ziffer 2) € zusammen A40000 € tpoll 2. Betriebskosten a) Neben der Miete sind vom Mieter zusätzlich die anfallenden Betriebskosten gem. $S 2 BetrKV; 7 Abs.2 HeizkostVO Zu bezahlen: Zu den umlagefähigen Kosten   gehören   insbesondere: Grundsteuer; Wasserversorgungskosten; Entwässerungskosten; Kosten des Betriebs der zentralen Heizungsanlage einschließlich der Kosten der verbrauchten Brennstoffe und ihrer Lieferung, die Kosten des Betriebsstroms; der regelmäßigen Prüfung ihrer Betriebsbereitschaft und Betriebssicherheit; die Kosten der Einstellung durch eine Fachkraft; der Reinigung der Anlage sowie die Kosten der Anmietung oder anderer Arten der Gebrauchsüberlassung einer Ausstattung zur Verbrauchserfassung; Reini- gungs- und Wartungskosten von Etagenheizungen; Gaseinzelfeuerstätten, Elektroheizgeräten und Warmwasser- geräten;   Kosten des Personen - oder Lastenaufzugs;   Straßenreinigungs - und Müllbeseitigungskosten; Kosten der Gebäudereinigung  und Ungezieferbekämpfung;   Gartenpflegekosten;   Kosten der Beleuchtung,   Schornstein- reinigungskosten,   Kosten der Sach - und Haftplichtversicherung,   Hauswartkosten;   Betriebskosten der Gemein- schaftsantenne oder des Breitbandanschlusses, Kosten des Betriebs der Einrichtungen für Wäschepflege sowie die sonstigen Betriebskosten: Kosten der Dachrinnenreinigung und   -heizung; Kosten des Betriebs und der   Wartung für Rauchwarn - Feuer - und CO-Melder;   Sprinkleranlage, Feuerlöscher; Garagentor; Lüf - tungs-IKlimaanlage; Betriebs - und Wartungskosten von Anlagen zur Warmwassererzeugung mit regenera- tiven Energien;   Kosten der Prüfung   und Wartung technischer` Stellplatzeinrichtungen und `Hebeanlagen; War - Mietvertrag des Verlags für Hausbesitzer GmbH, Stuttgart. Version 0/2021 (ohne Gewähr für künftige Rechlsentwicklungen) . Nachdruck verboten. Seite von 8\n"
     ]
    }
   ],
   "source": [
    "import easyocr  # For OCR\n",
    "from util import to_data_path\n",
    "\n",
    "reader = easyocr.Reader([\"de\"])\n",
    "transcription_easyocr = reader.readtext(to_data_path(\"contract1_1.jpg\"))\n",
    "\n",
    "# Print transcription\n",
    "text = \" \".join(map(lambda t: t[1], transcription_easyocr))\n",
    "print(\"Transcription (EasyOCR):\", text)"
   ]
  },
  {
   "cell_type": "markdown",
   "id": "e4cb3df65ab8477f",
   "metadata": {},
   "source": [
    "As can be seen, the library struggles with the handwritten parts of the contract.\n",
    "Thus it's not a suitable solution for this task.\n",
    "\n",
    "What is needed is a library that also can handle handwritten text (HTR).\n",
    "For this, after a quick search,\n",
    "I found an article from HuggingFace presenting HTRflow: <https://huggingface.co/blog/Gabriel/htrflow>\n",
    "\n",
    "Let's copy their code and adapt it to our needs:\n"
   ]
  },
  {
   "cell_type": "code",
   "execution_count": 4,
   "id": "e55d550d24b25052",
   "metadata": {
    "ExecuteTime": {
     "end_time": "2024-12-26T11:49:25.611727Z",
     "start_time": "2024-12-26T11:49:16.536523Z"
    }
   },
   "outputs": [
    {
     "name": "stderr",
     "output_type": "stream",
     "text": [
      "Config of the encoder: <class 'transformers.models.vit.modeling_vit.ViTModel'> is overwritten by shared encoder config: ViTConfig {\n",
      "  \"attention_probs_dropout_prob\": 0.0,\n",
      "  \"encoder_stride\": 16,\n",
      "  \"hidden_act\": \"gelu\",\n",
      "  \"hidden_dropout_prob\": 0.0,\n",
      "  \"hidden_size\": 768,\n",
      "  \"image_size\": 384,\n",
      "  \"initializer_range\": 0.02,\n",
      "  \"intermediate_size\": 3072,\n",
      "  \"layer_norm_eps\": 1e-12,\n",
      "  \"model_type\": \"vit\",\n",
      "  \"num_attention_heads\": 12,\n",
      "  \"num_channels\": 3,\n",
      "  \"num_hidden_layers\": 12,\n",
      "  \"patch_size\": 16,\n",
      "  \"qkv_bias\": false,\n",
      "  \"transformers_version\": \"4.47.1\"\n",
      "}\n",
      "\n",
      "Config of the decoder: <class 'transformers.models.trocr.modeling_trocr.TrOCRForCausalLM'> is overwritten by shared decoder config: TrOCRConfig {\n",
      "  \"activation_dropout\": 0.0,\n",
      "  \"activation_function\": \"gelu\",\n",
      "  \"add_cross_attention\": true,\n",
      "  \"attention_dropout\": 0.0,\n",
      "  \"bos_token_id\": 0,\n",
      "  \"classifier_dropout\": 0.0,\n",
      "  \"cross_attention_hidden_size\": 768,\n",
      "  \"d_model\": 1024,\n",
      "  \"decoder_attention_heads\": 16,\n",
      "  \"decoder_ffn_dim\": 4096,\n",
      "  \"decoder_layerdrop\": 0.0,\n",
      "  \"decoder_layers\": 12,\n",
      "  \"decoder_start_token_id\": 2,\n",
      "  \"dropout\": 0.1,\n",
      "  \"eos_token_id\": 2,\n",
      "  \"init_std\": 0.02,\n",
      "  \"is_decoder\": true,\n",
      "  \"layernorm_embedding\": true,\n",
      "  \"max_position_embeddings\": 512,\n",
      "  \"model_type\": \"trocr\",\n",
      "  \"pad_token_id\": 1,\n",
      "  \"scale_embedding\": false,\n",
      "  \"transformers_version\": \"4.47.1\",\n",
      "  \"use_cache\": false,\n",
      "  \"use_learned_position_embeddings\": true,\n",
      "  \"vocab_size\": 50265\n",
      "}\n",
      "\n",
      "Some weights of VisionEncoderDecoderModel were not initialized from the model checkpoint at microsoft/trocr-base-handwritten and are newly initialized: ['encoder.pooler.dense.bias', 'encoder.pooler.dense.weight']\n",
      "You should probably TRAIN this model on a down-stream task to be able to use it for predictions and inference.\n"
     ]
    },
    {
     "name": "stdout",
     "output_type": "stream",
     "text": [
      "Handwritten text: 2.\n"
     ]
    }
   ],
   "source": [
    "from transformers import TrOCRProcessor, VisionEncoderDecoderModel\n",
    "from util import get_pil_contract\n",
    "\n",
    "# Handwriting-specific model and processor\n",
    "trocr_processor = TrOCRProcessor.from_pretrained(\"microsoft/trocr-base-handwritten\")\n",
    "trocr_model = VisionEncoderDecoderModel.from_pretrained(\n",
    "    \"microsoft/trocr-base-handwritten\"\n",
    ")\n",
    "\n",
    "handwritten_image = get_pil_contract(\"1\", \"0\").convert(\"RGB\")\n",
    "\n",
    "pixel_values = trocr_processor(\n",
    "    images=handwritten_image, return_tensors=\"pt\"\n",
    ").pixel_values\n",
    "generated_ids = trocr_model.generate(pixel_values)\n",
    "handwritten_text = trocr_processor.batch_decode(\n",
    "    generated_ids, skip_special_tokens=True\n",
    ")[0]\n",
    "print(f\"Handwritten text:\", handwritten_text)"
   ]
  },
  {
   "cell_type": "markdown",
   "id": "73651504f99ef09b",
   "metadata": {},
   "source": [
    "The results are underwhelming.\n",
    "I haven't investigated yet into the way the model way trained, but I think it has to something with the size of the image.\n",
    "While normally you would have snippets of handwritten parts,\n",
    "in this case I just fed it the complete page which has a size of 1653x2339 pixels.\n",
    "\n",
    "Instead of giving it the complete image, why not feed it with rows of the text.\n"
   ]
  }
 ],
 "metadata": {
  "kernelspec": {
   "display_name": "Python 3",
   "language": "python",
   "name": "python3"
  },
  "language_info": {
   "codemirror_mode": {
    "name": "ipython",
    "version": 3
   },
   "file_extension": ".py",
   "mimetype": "text/x-python",
   "name": "python",
   "nbconvert_exporter": "python",
   "pygments_lexer": "ipython3",
   "version": "3.12.7"
  }
 },
 "nbformat": 4,
 "nbformat_minor": 5
}
