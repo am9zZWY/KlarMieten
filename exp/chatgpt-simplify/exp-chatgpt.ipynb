{
 "cells": [
  {
   "cell_type": "code",
   "execution_count": 22,
   "metadata": {},
   "outputs": [
    {
     "name": "stdout",
     "output_type": "stream",
     "text": [
      "ChatCompletion(id='chatcmpl-Ap0nHE7x4abmzS5zLTNL7lxE2QPzX', choices=[Choice(finish_reason='stop', index=0, logprobs=None, message=ChatCompletionMessage(content='Wenn du Änderungen an der Wohnung machen willst, wie Umbauten oder Installationen, musst du vorher den Vermieter fragen. \\n\\nWenn du etwas ohne seine Zustimmung machst, muss du das auf eigene Kosten wieder entfernen und alles so zurückbringen, wie es war. \\n\\nWenn du genehmigte Änderungen machst, musst du auch beim Auszug alles wieder zurückbauen, es sei denn, es gibt eine andere Vereinbarung. \\n\\nFalls du etwas, was du eingebaut hast, beim Auszug mitnehmen möchtest, musst du es dem Vermieter anbieten. Wenn er es übernehmen will, zahlt er dir entweder die Kosten abzüglich einer Nutzungspauschale oder gibt dir einen anderen Ausgleich. Wenn der Vermieter nichts tun möchte und du das entfernst, musst du trotzdem alles wieder zurückbringen. \\n\\nWenn du einen Ofen oder einen Wäschetrockner aufstellen willst, musst du vorher den Vermieter fragen. Außerdem musst du alle gesetzlichen Vorschriften und technischen Regeln beachten. \\n\\nDie Rechte, die du als Mieter hast, bleiben jedoch bestehen.', refusal=None, role='assistant', audio=None, function_call=None, tool_calls=None))], created=1736721143, model='gpt-4o-mini-2024-07-18', object='chat.completion', service_tier='default', system_fingerprint='fp_bd83329f63', usage=CompletionUsage(completion_tokens=212, prompt_tokens=517, total_tokens=729, completion_tokens_details=CompletionTokensDetails(accepted_prediction_tokens=0, audio_tokens=0, reasoning_tokens=0, rejected_prediction_tokens=0), prompt_tokens_details=PromptTokensDetails(audio_tokens=0, cached_tokens=0)))\n"
     ]
    }
   ],
   "source": [
    "import os\n",
    "from openai import OpenAI\n",
    "\n",
    "# Load from .env file\n",
    "from dotenv import load_dotenv\n",
    "\n",
    "load_dotenv()\n",
    "\n",
    "# Initialize the OpenAI client\n",
    "\n",
    "client = OpenAI(\n",
    "    api_key=os.getenv(\"OPENAI_API_KEY\"),\n",
    ")\n",
    "\n",
    "# Example usage\n",
    "legal_text = \"\"\"\n",
    "Bauliche Veränderungen an und in der Mietsache, insbesondere Um- und Einbauten, Installationen und dergleichen\n",
    "dürfen nur mit vorheriger Zustimmung des Vermieters vorgenommen werden.\n",
    "2. Einrichtungen oder Veränderungen der Mietsache, die der Mieter ohne Zustimmung des Vermieters während der Miet-\n",
    "zeit angebracht oder vorgenommen hat, hat der Mieter auf Verlangen des Vermieters sofort auf eigene Kosten zu besei-\n",
    "tigen und den ursprünglichen Zustand wiederherzustellen.\n",
    "Bei genehmigten Veränderungen oder Einrichtungen muss der Mieter bei Beendigung des Mietverhältnisses diese auf\n",
    "eigene Kosten beseitigen und den ursprünglichen Zustand wiederherstellen, soweit nichts Abweichendes vereinbart ist.\n",
    "3. Will der Mieter Einrichtungen, mit denen er die Mietsache versehen hat, bei Beendigung des Mietverhältnisses wegneh-\n",
    "men, hat er sie zunächst dem Vermieter zur Übernahme anzubieten. Wenn der Vermieter die Einrichtungen übernehmen\n",
    "will, hat er nach seiner Wahl entweder dem Mieter die Herstellungskosten abzüglich eines angemessenen Betrags für\n",
    "die Abnutzung zu erstatten oder in sonstiger Weise einen angemessenen Ausgleich zu leisten. Macht der Vermieter von\n",
    "diesem Recht keinen Gebrauch und entfernt der Mieter die Einrichtungen, so ist der Mieter zur Wiederherstellung des\n",
    "ursprünglichen Zustands verpflichtet.\n",
    "4. Aufstellung und Betrieb von (Kamin-)Öfen oder Abluft-Wäschetrocknern bedürfen der vorherigen Zustimmung des\n",
    "Vermieters. Bei Aufstellung und Betrieb dieser Geräte hat der Mieter alle gesetzlichen und behördlichen Vorschriften und\n",
    "Auflagen sowie die Regeln der Technik zu beachten.\n",
    "5. Unberührt davon bleiben die Rechte des Mieters aus § 554 BGB\n",
    "\"\"\"\n",
    "\n",
    "\"\"\"\n",
    "Simplifies a given German legal text snippet to make it more understandable.\n",
    "Ensures the model explicitly states when it is unsure about the meaning.\n",
    "\"\"\"\n",
    "try:\n",
    "    # Send the request to the GPT-4o mini API\n",
    "    chat_completion = client.chat.completions.create(\n",
    "        messages=[\n",
    "            {\n",
    "                \"role\": \"system\",\n",
    "                \"content\": (\n",
    "                    \"AUFGABE:\\n\"\n",
    "                    \"Du bist ein freundlicher Erklärer für Mietverträge.\\n\"\n",
    "                    \"Erkläre Mietvertragstexte so, als würdest du sie einem Freund erklären.\\n\"\n",
    "                    \"WICHTIG:\\n\"\n",
    "                    \"- Erst Grundregel, dann Details\\n\"\n",
    "                    \"- 'Du'-Form verwenden\\n\"\n",
    "                    \"- Ein Gedanke pro Absatz\\n\"\n",
    "                    \"- Alltagssprache\\n\"\n",
    "                    \"- Kurze Sätze\\n\"\n",
    "                    \"- Keine nummerierten Aufzählungen\\n\"\n",
    "                    \"VERBOTEN:\\n\"\n",
    "                    \"- Keine Formatierung\\n\"\n",
    "                    \"- Keine Rechtsberatung\\n\"\n",
    "                    \"- Keine Fragen beantworten\\n\"\n",
    "                    \"- Nur Mietvertragsthemen\\n\"\n",
    "                    \"Bei Nicht-Mietvertragstext: 'Nicht verarbeitbar'\\n\"\n",
    "                ),\n",
    "            },\n",
    "            {\n",
    "                \"role\": \"user\",\n",
    "                \"content\": f\"Legal text: {legal_text}\\n\\nSimplify this text in plain German:\",\n",
    "            },\n",
    "        ],\n",
    "        model=\"gpt-4o-mini-2024-07-18\",\n",
    "    )\n",
    "\n",
    "    # Extract and return the AI's response\n",
    "    print(chat_completion)\n",
    "except Exception as e:\n",
    "    print(f\"An error occurred: {e}\")"
   ]
  }
 ],
 "metadata": {
  "kernelspec": {
   "display_name": ".venv",
   "language": "python",
   "name": "python3"
  },
  "language_info": {
   "codemirror_mode": {
    "name": "ipython",
    "version": 3
   },
   "file_extension": ".py",
   "mimetype": "text/x-python",
   "name": "python",
   "nbconvert_exporter": "python",
   "pygments_lexer": "ipython3",
   "version": "3.12.7"
  }
 },
 "nbformat": 4,
 "nbformat_minor": 2
}
