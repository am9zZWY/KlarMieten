{
 "cells": [
  {
   "cell_type": "code",
   "execution_count": 8,
   "metadata": {},
   "outputs": [
    {
     "name": "stderr",
     "output_type": "stream",
     "text": [
      "/Users/josef/.pyenv/versions/3.12.7/lib/python3.12/site-packages/coremltools/models/model.py:561: RuntimeWarning: You will not be able to run predict() on this Core ML model. Underlying exception message was: Error compiling model: \"compiler error: Error reading protobuf spec. validator error: Input MLMultiArray to neural networks must have dimension 1 (vector) or 3 (image-like arrays).\".\n",
      "  _warnings.warn(\n",
      "/Users/josef/.pyenv/versions/3.12.7/lib/python3.12/site-packages/coremltools/models/model.py:561: RuntimeWarning: You will not be able to run predict() on this Core ML model. Underlying exception message was: Error compiling model: \"compiler error: Error reading protobuf spec. validator error: Input MLMultiArray to neural networks must have dimension 1 (vector) or 3 (image-like arrays).\".\n",
      "  _warnings.warn(\n",
      "/Users/josef/.pyenv/versions/3.12.7/lib/python3.12/site-packages/kraken/rpred.py:322: UserWarning: Using legacy polygon extractor, as the model was not trained with the new method. Please retrain your model to get speed improvement.\n",
      "  warnings.warn('Using legacy polygon extractor, as the model was not trained with the new method. Please retrain your model to get speed improvement.')\n"
     ]
    },
    {
     "name": "stdout",
     "output_type": "stream",
     "text": [
      "Znischen\n",
      "Wohnraummietvertrac\n",
      "Deten ehPeueknd\n",
      "Ded-didd Zuneſne\n",
      "au PeEnt\n",
      "GVor- und Zonarne)\n",
      "SéM e  Ih tr 2Oechca\n",
      "(Slrede NIe. 6 12 0\n",
      "OM5 1 56 2M ahneradGatail Ta emstri\n",
      "(lelefton)\n",
      "* be Tfe—\n",
      "4und Z nehme)\n",
      "Eitel\n",
      "J42598 1995\n",
      "(Sebonedatom)\n",
      "1Nndeau4 4 , üP dEgge \n",
      "(Strade Nc. PlZ. On\n",
      "Der une Zineme),\n",
      "Sisne füe. 6l2, Oh\n",
      "(Gsburtsdstonm\n",
      "(ers\n",
      "h ( 7 87/2 D eset, Fk. mosſase, prstea Ga 1 Serzes\n",
      "(iaelea)\n",
      "Gite\n",
      " d& vcE ausg kece 49\n",
      "(anlverbindung: 18850)\n",
      "wird folgender Nietvertrag geschlossen:\n",
      "§ 1 Mietsache\n",
      "1. tesernin4i ds laie i eti n Iun Dee Migeradd 42 40 %& K\n",
      "„ Theco\n",
      "4 Ziminme\n",
      "Küche\n",
      "4 Sadbsche\n",
      " seperates wc\n",
      "1 Balkenileftasse\n",
      "2 Kelesett\n",
      " Abstellralumdlr.\n",
      "iGanenes2 4 Z\n",
      "4 stelpielanc △\n",
      "Garageldir.\n",
      "✕ Eshandeſt sich um eine Elgentomsnohnung\n",
      "z. Beheizung\n",
      "◻Eimeelofen\n",
      "3. Semeinschaftlich\n",
      "K'Osgesnelzune\n",
      "◻ Zentralhelzung\n",
      "N Waschkhche ◻ftockentaum & Saften\n",
      "4. Ausgehändigte Schlüssel\n",
      "Schlledanlahe 7 lenmung 7 Stiefcsslen\n",
      "2U Wohnzwecken und alleiniger Notzung:\n",
      "Sonstigeschnongszbehor ſes Sinbaltste),\n",
      "◻ Sonstges⸗\n",
      "◻ sonsiges⸗\n",
      "Gerege Zogengskafte\n",
      "Haustür Zimmer, keller Handsender.\n",
      "Sonstiges:\n",
      "Die Anfertigung von zusätzlichen Schlüsseln ist nur mit vorheriger Zustimmung des Vermieters gestattet. Schlüssel, die der\n",
      "Mieter sich zusstzlich beschafft hat, sind nach Beendigung der Nietzeit dem Vernieter berauszogeben.\n",
      "I n n r e  e un en en ei  ee e r ueeit  t—\n",
      "Seite T veae\n",
      "und\n"
     ]
    }
   ],
   "source": [
    "import cv2\n",
    "from kraken import blla\n",
    "from kraken.lib import models, vgsl\n",
    "from kraken import rpred\n",
    "from util import get_pil_contract\n",
    "\n",
    "image = get_pil_contract(\"1\", \"0\")\n",
    "\n",
    "# Perform baseline segmentation on the row\n",
    "seg_model = None\n",
    "#seg_model_path = \"model/segmentation/fraktur.pronn\"\n",
    "#seg_model = vgsl.TorchVGSLModel.load_model(seg_model_path)\n",
    "baseline_seg = blla.segment(\n",
    "    im=image,\n",
    "    text_direction=\"horizontal-lr\",\n",
    "    model=seg_model,\n",
    ")\n",
    "\n",
    "# Perform text recognition\n",
    "rec_model_path = \"model/german2/austriannewspapers.mlmodel\"\n",
    "rec_model = models.load_any(rec_model_path)\n",
    "pred_it = rpred.rpred(network=rec_model, im=image, bounds=baseline_seg, pad=16)\n",
    "\n",
    "for pred in pred_it:\n",
    "    print(pred)"
   ]
  }
 ],
 "metadata": {
  "kernelspec": {
   "display_name": "Python 3",
   "language": "python",
   "name": "python3"
  },
  "language_info": {
   "codemirror_mode": {
    "name": "ipython",
    "version": 3
   },
   "file_extension": ".py",
   "mimetype": "text/x-python",
   "name": "python",
   "nbconvert_exporter": "python",
   "pygments_lexer": "ipython3",
   "version": "3.12.7"
  }
 },
 "nbformat": 4,
 "nbformat_minor": 2
}
